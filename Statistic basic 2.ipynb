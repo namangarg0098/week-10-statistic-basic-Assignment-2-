{
 "cells": [
  {
   "cell_type": "code",
   "execution_count": null,
   "id": "4869364b-c7af-41ae-a896-0aca179da3da",
   "metadata": {},
   "outputs": [],
   "source": [
    "Q1. What are the three measures of central tendency?"
   ]
  },
  {
   "cell_type": "code",
   "execution_count": null,
   "id": "b09e4c41-b8ef-495f-be57-b3ce643466dc",
   "metadata": {},
   "outputs": [],
   "source": [
    "Mean: The average value of a dataset, calculated by summing all values and dividing by the total number of values.\n",
    "\n",
    "Median: The middle value of a dataset when it's ordered. If there's an even number of values, the median is the average of the two middle values.\n",
    "\n",
    "Mode: The value that appears most frequently in a dataset. There can be one mode, more than one mode (multimodal), or no mode if all values are unique."
   ]
  },
  {
   "cell_type": "code",
   "execution_count": null,
   "id": "ba1a8d40-b13d-4a03-a511-9679d5c39841",
   "metadata": {},
   "outputs": [],
   "source": []
  },
  {
   "cell_type": "code",
   "execution_count": null,
   "id": "e0aed25b-bf4f-42e9-b988-eedaf5de813c",
   "metadata": {},
   "outputs": [],
   "source": [
    "Q2. What is the difference between the mean, median, and mode? How are they used to measure the\n",
    "central tendency of a dataset?"
   ]
  },
  {
   "cell_type": "code",
   "execution_count": null,
   "id": "9033c2a3-9eee-438a-a343-514515532f8e",
   "metadata": {},
   "outputs": [],
   "source": [
    "Mean:\n",
    "\n",
    "Definition: The sum of all values divided by the total number of values.\n",
    "\n",
    "Sensitivity to Outliers: Sensitive to extreme values (outliers).\n",
    "\n",
    "Use: Provides a balanced average but can be influenced by outliers.\n",
    "\n",
    "Median:\n",
    "\n",
    "Definition: The middle value of an ordered dataset. If even values, the average of two middle values.\n",
    "\n",
    "Sensitivity to Outliers: Less sensitive to outliers; robust measure.\n",
    "\n",
    "Use: Represents a central value, suitable for skewed distributions and data with outliers.\n",
    "\n",
    "Mode:\n",
    "\n",
    "Definition: The value that appears most frequently in a dataset.\n",
    "\n",
    "Sensitivity to Outliers: Not sensitive to outliers; unaffected by extreme values.\n",
    "\n",
    "Use: Identifies the most common value(s), especially in categorical or discrete data."
   ]
  },
  {
   "cell_type": "code",
   "execution_count": null,
   "id": "439bd93f-b5ee-4b20-bec9-336974e992b8",
   "metadata": {},
   "outputs": [],
   "source": []
  },
  {
   "cell_type": "code",
   "execution_count": null,
   "id": "695e8321-507b-4564-9f50-5f1692c642b9",
   "metadata": {},
   "outputs": [],
   "source": [
    "Q3. Measure the three measures of central tendency for the given height data:\n",
    "\n",
    " [178,177,176,177,178.2,178,175,179,180,175,178.9,176.2,177,172.5,178,176.5]"
   ]
  },
  {
   "cell_type": "code",
   "execution_count": 1,
   "id": "497e4f83-013d-4b27-94bb-39d77a0b8a28",
   "metadata": {},
   "outputs": [
    {
     "name": "stdout",
     "output_type": "stream",
     "text": [
      "Mean: 177.01875\n",
      "Median: 177.0\n",
      "Mode: 177.0\n"
     ]
    },
    {
     "name": "stderr",
     "output_type": "stream",
     "text": [
      "/tmp/ipykernel_2461/3396104854.py:15: FutureWarning: Unlike other reduction functions (e.g. `skew`, `kurtosis`), the default behavior of `mode` typically preserves the axis it acts along. In SciPy 1.11.0, this behavior will change: the default value of `keepdims` will become False, the `axis` over which the statistic is taken will be eliminated, and the value None will no longer be accepted. Set `keepdims` to True or False to avoid this warning.\n",
      "  mode_height = stats.mode(height_data)\n"
     ]
    }
   ],
   "source": [
    "import numpy as np\n",
    "from scipy import stats\n",
    "\n",
    "height_data = [178, 177, 176, 177, 178.2, 178, 175, 179, 180, 175, 178.9, 176.2, 177, 172.5, 178, 176.5]\n",
    "\n",
    "# Mean\n",
    "mean_height = np.mean(height_data)\n",
    "print(\"Mean:\", mean_height)\n",
    "\n",
    "# Median\n",
    "median_height = np.median(height_data)\n",
    "print(\"Median:\", median_height)\n",
    "\n",
    "# Mode\n",
    "mode_height = stats.mode(height_data)\n",
    "print(\"Mode:\", mode_height.mode[0])\n"
   ]
  },
  {
   "cell_type": "code",
   "execution_count": null,
   "id": "9600caad-1fef-4fa4-aa3d-260d1309b166",
   "metadata": {},
   "outputs": [],
   "source": []
  },
  {
   "cell_type": "code",
   "execution_count": null,
   "id": "f64ebf30-ce3c-44ed-9874-dd02b84f0987",
   "metadata": {},
   "outputs": [],
   "source": [
    "Q4. Find the standard deviation for the given data:\n",
    "\n",
    "[178,177,176,177,178.2,178,175,179,180,175,178.9,176.2,177,172.5,178,176.5]"
   ]
  },
  {
   "cell_type": "code",
   "execution_count": 3,
   "id": "af7ed798-f7ef-44ed-8aee-a05032cd2476",
   "metadata": {},
   "outputs": [
    {
     "name": "stdout",
     "output_type": "stream",
     "text": [
      "Standard Deviation: 1.7885814036548633\n"
     ]
    }
   ],
   "source": [
    "data = [178, 177, 176, 177, 178.2, 178, 175, 179, 180, 175, 178.9, 176.2, 177, 172.5, 178, 176.5]\n",
    "\n",
    "std_deviation = np.std(data)\n",
    "\n",
    "print(\"Standard Deviation:\", std_deviation)"
   ]
  },
  {
   "cell_type": "code",
   "execution_count": null,
   "id": "81f6ef63-6811-4ea9-8e4a-1fd98e05c8a1",
   "metadata": {},
   "outputs": [],
   "source": []
  },
  {
   "cell_type": "code",
   "execution_count": null,
   "id": "979bd968-7957-41e7-82af-7e341cf6bb81",
   "metadata": {},
   "outputs": [],
   "source": [
    "Q5. How are measures of dispersion such as range, variance, and standard deviation used to describe\n",
    "the spread of a dataset? Provide an example."
   ]
  },
  {
   "cell_type": "code",
   "execution_count": null,
   "id": "ca886e4d-fd0c-4f86-8f02-73ea0073e94e",
   "metadata": {},
   "outputs": [],
   "source": [
    "Range:\n",
    "\n",
    "Definition: The difference between the maximum and minimum values in a dataset.\n",
    "\n",
    "Use: Provides a simple measure of the data's spread but is sensitive to outliers.\n",
    "\n",
    "Example: If the range of test scores in a class is 40 (from 60 to 100), it indicates that scores are spread across a wide range.\n",
    "\n",
    "Variance:\n",
    "\n",
    "Definition: The average of squared differences between each data point and the mean.\n",
    "\n",
    "Use: Quantifies the dispersion of data points around the mean.\n",
    "\n",
    "Example: In a dataset of exam scores, a higher variance indicates that scores are more spread out from the average, reflecting greater variability.\n",
    "\n",
    "Standard Deviation:\n",
    "\n",
    "Definition: Square root of the variance; represents the typical deviation from the mean.\n",
    "\n",
    "Use: Offers a more interpretable measure of spread than variance.\n",
    "\n",
    "Example: For a set of company profits, a higher standard deviation implies more fluctuation in earnings, showing greater business risk.\n",
    "\n",
    "Example: Consider two datasets of exam scores:\n",
    "\n",
    "Dataset A: [85, 88, 90, 87, 89], Dataset B: [60, 75, 85, 95, 110]\n",
    "\n",
    "Range:\n",
    "\n",
    "Range of Dataset A: 90 - 85 = 5\n",
    "\n",
    "Range of Dataset B: 110 - 60 = 50\n",
    "\n",
    "Interpretation: Dataset B has a wider spread than Dataset A.\n",
    "\n",
    "Variance and Standard Deviation:\n",
    "\n",
    "Variance and standard deviation for Dataset A: Lower values due to less variation.\n",
    "\n",
    "Variance and standard deviation for Dataset B: Higher values due to wider spread.\n",
    "\n",
    "Interpretation: Dataset B has more dispersed scores compared to Dataset A."
   ]
  },
  {
   "cell_type": "code",
   "execution_count": null,
   "id": "17d15eeb-3e5b-469f-a508-897ca113cfae",
   "metadata": {},
   "outputs": [],
   "source": []
  },
  {
   "cell_type": "code",
   "execution_count": null,
   "id": "398e33f3-a2ff-4da2-9a41-1481cd4c51fc",
   "metadata": {},
   "outputs": [],
   "source": [
    "Q6. What is a Venn diagram?"
   ]
  },
  {
   "cell_type": "code",
   "execution_count": null,
   "id": "62338246-525c-438b-a59e-2c22fb38f912",
   "metadata": {},
   "outputs": [],
   "source": [
    "A Venn diagram is a visual tool that uses overlapping circles or shapes to show relationships and commonalities between different sets or categories. \n",
    "It helps illustrate intersections and differences among groups of items or concepts."
   ]
  },
  {
   "cell_type": "code",
   "execution_count": null,
   "id": "417f1e91-93ed-4e1a-a30c-9b6a2f57921d",
   "metadata": {},
   "outputs": [],
   "source": []
  },
  {
   "cell_type": "code",
   "execution_count": null,
   "id": "eee6efa1-a95f-40c7-a9f3-329494313aad",
   "metadata": {},
   "outputs": [],
   "source": [
    "Q7. For the two given sets A = (2,3,4,5,6,7) & B = (0,2,6,8,10). Find:\n",
    "\n",
    "(i) \tA B\n",
    "\n",
    "(ii)\tA ⋃ B"
   ]
  },
  {
   "cell_type": "code",
   "execution_count": null,
   "id": "52ca4a7d-6d54-4711-a24d-3f139e9fd2f6",
   "metadata": {},
   "outputs": [],
   "source": [
    "A = (2,3,4,5,6,7) \n",
    "B = (0,2,6,8,10)"
   ]
  },
  {
   "cell_type": "code",
   "execution_count": null,
   "id": "12128376-9a57-417f-9d9d-3d5961238443",
   "metadata": {},
   "outputs": [],
   "source": [
    "(i) A ∩ B (Intersection of A and B):\n",
    "\n",
    "A ∩ B represents the elements that are common to both sets A and B.\n",
    "\n",
    "In this case, the common element is 2 and 6.\n",
    "\n",
    "A ∩ B = {2,6}\n",
    "\n",
    "(ii) A ∪ B (Union of A and B):\n",
    "\n",
    "A ∪ B represents the combination of all unique elements from sets A and B.\n",
    "\n",
    "Combined set = {0, 2, 3, 4, 5, 6, 7, 8, 10}\n",
    "\n",
    "A ∪ B = {0, 2, 3, 4, 5, 6, 7, 8, 10}"
   ]
  },
  {
   "cell_type": "code",
   "execution_count": null,
   "id": "648a53e3-0f36-46d6-a23a-0991e4eb6d33",
   "metadata": {},
   "outputs": [],
   "source": []
  },
  {
   "cell_type": "code",
   "execution_count": null,
   "id": "eaae835a-1521-4b99-8622-1e6f7c25a00f",
   "metadata": {},
   "outputs": [],
   "source": [
    "Q8. What do you understand about skewness in data?"
   ]
  },
  {
   "cell_type": "code",
   "execution_count": null,
   "id": "e748818d-a293-4d3f-9e5c-550d31362cca",
   "metadata": {},
   "outputs": [],
   "source": [
    "Skewness in Data:\n",
    "\n",
    "Measures the asymmetry of data distribution.\n",
    "\n",
    "Two types: positive skew (right skew) and negative skew (left skew).\n",
    "\n",
    "Positive skew: Longer tail on the right; mean > median.\n",
    "\n",
    "Negative skew: Longer tail on the left; mean < median.\n",
    "\n",
    "Impacts interpretation of central tendency and distribution shape.\n",
    "\n",
    "Visualized through histograms or density plots."
   ]
  },
  {
   "cell_type": "code",
   "execution_count": null,
   "id": "cba6c1fe-62a8-47d9-b649-892f9f8db8fe",
   "metadata": {},
   "outputs": [],
   "source": []
  },
  {
   "cell_type": "code",
   "execution_count": null,
   "id": "75d98640-1c51-4fc1-ac94-a5c8a776a1e8",
   "metadata": {},
   "outputs": [],
   "source": [
    "Q9. If a data is right skewed then what will be the position of median with respect to mean?"
   ]
  },
  {
   "cell_type": "code",
   "execution_count": null,
   "id": "2b5b13cc-3b25-4658-93c5-336d4b6effb1",
   "metadata": {},
   "outputs": [],
   "source": [
    "In a right-skewed distribution:\n",
    "\n",
    "The tail of the distribution is elongated on the right side.\n",
    "\n",
    "Outliers or larger values are present on the right side, pulling the mean in that direction.\n",
    "\n",
    "As a result, the mean is dragged towards the right by the presence of these larger values.\n",
    "\n",
    "The median, being less sensitive to outliers, tends to stay closer to the center of the distribution.\n",
    "\n",
    "mean > median."
   ]
  },
  {
   "cell_type": "code",
   "execution_count": null,
   "id": "27600ec2-432b-45d7-91f7-ffc099cf8cb8",
   "metadata": {},
   "outputs": [],
   "source": []
  },
  {
   "cell_type": "code",
   "execution_count": null,
   "id": "6a831dc2-0641-41f0-aaa1-2daf91b514df",
   "metadata": {},
   "outputs": [],
   "source": [
    "Q10. Explain the difference between covariance and correlation. How are these measures used in\n",
    "statistical analysis?"
   ]
  },
  {
   "cell_type": "code",
   "execution_count": null,
   "id": "270cb943-812f-4841-ae57-28c4f69f8722",
   "metadata": {},
   "outputs": [],
   "source": [
    "Covariance:\n",
    "\n",
    "Measures how two variables change together.\n",
    "\n",
    "Indicates direction of linear relationship.\n",
    "\n",
    "Not standardized, affected by variable scales.\n",
    "\n",
    "\n",
    "Correlation:\n",
    "\n",
    "Measures strength and direction of linear relationship.\n",
    "\n",
    "Ranges from -1 to 1.\n",
    "\n",
    "Standardized, not affected by variable scales.\n",
    "\n",
    "\n",
    "Usage in Statistical Analysis:\n",
    "\n",
    "Covariance: Assess direction of relationship.\n",
    "\n",
    "Correlation: Assess strength and direction of relationship, useful for comparing relationships across datasets."
   ]
  },
  {
   "cell_type": "code",
   "execution_count": null,
   "id": "67844bc6-a994-4535-bcd1-378fea1b2e5a",
   "metadata": {},
   "outputs": [],
   "source": []
  },
  {
   "cell_type": "code",
   "execution_count": null,
   "id": "ae7f16c8-f341-4dc9-a5a1-6ffda1054926",
   "metadata": {},
   "outputs": [],
   "source": [
    "Q11. What is the formula for calculating the sample mean? Provide an example calculation for a\n",
    "dataset."
   ]
  },
  {
   "cell_type": "code",
   "execution_count": null,
   "id": "90572b75-e795-4b95-a785-acd444bc5fb7",
   "metadata": {},
   "outputs": [],
   "source": [
    "Sample Mean (x̄) = (Sum of all values) / (Number of values - 1)\n",
    "\n",
    "Example:\n",
    "\n",
    "Suppose we have a dataset of test scores: [85, 92, 78, 89, 95, 88]\n",
    "\n",
    "Add up all the values: 85 + 92 + 78 + 89 + 95 + 88 = 527\n",
    "\n",
    "Count the number of values: 6\n",
    "\n",
    "Calculate the sample mean with correction for bias: x̄ = 527 / (6 - 1) = 105.4\n",
    "\n",
    "So, using Bessel's correction, the sample mean of the test scores is 105.4."
   ]
  },
  {
   "cell_type": "code",
   "execution_count": null,
   "id": "f98a6539-a142-49b5-ba0e-697e71ad5091",
   "metadata": {},
   "outputs": [],
   "source": []
  },
  {
   "cell_type": "code",
   "execution_count": null,
   "id": "c3d7a341-6c39-46d7-8263-1ff4fd034f06",
   "metadata": {},
   "outputs": [],
   "source": [
    "Q12. For a normal distribution data what is the relationship between its measure of central tendency?"
   ]
  },
  {
   "cell_type": "code",
   "execution_count": null,
   "id": "1f32e074-fdbf-4c87-a3b5-6a3fe20eaee8",
   "metadata": {},
   "outputs": [],
   "source": [
    "For a normal distribution, the relationship between measures of central tendency (mean, median, mode) is:\n",
    "\n",
    "Mean = Median = Mode\n",
    "\n",
    "They are all equal.\n",
    "\n",
    "Located at the center due to distribution's symmetry."
   ]
  },
  {
   "cell_type": "code",
   "execution_count": null,
   "id": "fd459bdc-8001-40fe-ba23-7784ae7a9ecd",
   "metadata": {},
   "outputs": [],
   "source": []
  },
  {
   "cell_type": "code",
   "execution_count": null,
   "id": "97a9a5f1-1761-4478-aa85-fc801d7394bf",
   "metadata": {},
   "outputs": [],
   "source": [
    "Q13. How is covariance different from correlation?"
   ]
  },
  {
   "cell_type": "code",
   "execution_count": null,
   "id": "111b350e-1569-4917-a21a-5d9f1b1752aa",
   "metadata": {},
   "outputs": [],
   "source": [
    "Covariance: Covariance is a statistical measure that indicates how two variables change together. It quantifies the direction of the linear relationship between them.\n",
    "\n",
    "Measures linear relationship direction.\n",
    "\n",
    "Positive or negative values.\n",
    "\n",
    "Not standardized.\n",
    "\n",
    "Sensitive to variable scales.\n",
    "\n",
    "No fixed range.\n",
    "\n",
    "Correlation: Correlation is a statistical measure that quantifies both the strength and direction of the linear relationship between two variables.\n",
    "\n",
    "Measures linear relationship strength and direction.\n",
    "\n",
    "Ranges from -1 to 1.\n",
    "\n",
    "Standardized.\n",
    "\n",
    "Not affected by variable scales.\n",
    "\n",
    "Fixed range for easy comparison."
   ]
  },
  {
   "cell_type": "code",
   "execution_count": null,
   "id": "a54ffe3d-ae27-4bc2-8003-6d46dbb874f5",
   "metadata": {},
   "outputs": [],
   "source": []
  },
  {
   "cell_type": "code",
   "execution_count": null,
   "id": "b3371b04-3d42-4af2-bb75-a3c3e953109c",
   "metadata": {},
   "outputs": [],
   "source": [
    "Q14. How do outliers affect measures of central tendency and dispersion? Provide an example."
   ]
  },
  {
   "cell_type": "code",
   "execution_count": null,
   "id": "1e32dcc6-cfe5-4585-809e-fb15f46efa64",
   "metadata": {},
   "outputs": [],
   "source": [
    "Measures of Central Tendency:\n",
    "\n",
    "Outliers can significantly affect measures of central tendency, such as the mean and median:\n",
    "\n",
    "Mean: Outliers can distort the mean towards their extreme values. If there are outliers with very high or very low values, the\n",
    "mean may no longer represent the typical value of the majority of data points.\n",
    "\n",
    "Median: The median is less affected by outliers. Outliers do not influence the median's value unless they fall within the middle\n",
    "of the dataset, which is less common.\n",
    "\n",
    "Measures of Dispersion:\n",
    "\n",
    "Outliers can also impact measures of dispersion, such as the range, variance, and standard deviation:\n",
    "\n",
    "Range: Outliers can significantly expand the range, making it appear that the data is more spread out than it actually is.\n",
    "\n",
    "Variance and Standard Deviation: Outliers can lead to larger values of variance and standard deviation, indicating higher variability\n",
    "even if the majority of data points are close together."
   ]
  },
  {
   "cell_type": "code",
   "execution_count": 4,
   "id": "c63d246a-6954-4a5e-a69d-63a3d9521a9f",
   "metadata": {},
   "outputs": [
    {
     "name": "stdout",
     "output_type": "stream",
     "text": [
      "With Outlier:\n",
      "Mean: 31571.428571428572\n",
      "Median: 29000.0\n",
      "Range: 25000\n",
      "Variance: 70952380.95238096\n",
      "Standard Deviation: 8423.323628614833\n",
      "\n",
      "Without Outlier:\n",
      "Mean: 28500.0\n",
      "Median: 28500.0\n",
      "Range: 7000\n",
      "Variance: 5900000.0\n",
      "Standard Deviation: 2428.9915602982237\n"
     ]
    }
   ],
   "source": [
    "import numpy as np\n",
    "\n",
    "# Dataset with and without an outlier\n",
    "data_with_outlier = np.array([25000, 30000, 32000, 28000, 29000, 27000, 50000])\n",
    "data_without_outlier = np.array([25000, 30000, 32000, 28000, 29000, 27000])\n",
    "\n",
    "# Calculate mean, median, range, variance, and standard deviation\n",
    "def calculate_stats(data):\n",
    "    mean = np.mean(data)\n",
    "    median = np.median(data)\n",
    "    range_val = np.max(data) - np.min(data)\n",
    "    variance = np.var(data, ddof=1)  # Bessel's correction\n",
    "    std_deviation = np.std(data, ddof=1)\n",
    "    return mean, median, range_val, variance, std_deviation\n",
    "\n",
    "# Calculate statistics for both datasets\n",
    "mean_with_outlier, median_with_outlier, range_with_outlier, variance_with_outlier, std_deviation_with_outlier = calculate_stats(data_with_outlier)\n",
    "\n",
    "mean_without_outlier, median_without_outlier, range_without_outlier, variance_without_outlier, std_deviation_without_outlier = calculate_stats(data_without_outlier)\n",
    "\n",
    "\n",
    "print(\"With Outlier:\")\n",
    "print(\"Mean:\", mean_with_outlier)\n",
    "print(\"Median:\", median_with_outlier)\n",
    "print(\"Range:\", range_with_outlier)\n",
    "print(\"Variance:\", variance_with_outlier)\n",
    "print(\"Standard Deviation:\", std_deviation_with_outlier)\n",
    "\n",
    "print(\"\\nWithout Outlier:\")\n",
    "print(\"Mean:\", mean_without_outlier)\n",
    "print(\"Median:\", median_without_outlier)\n",
    "print(\"Range:\", range_without_outlier)\n",
    "print(\"Variance:\", variance_without_outlier)\n",
    "print(\"Standard Deviation:\", std_deviation_without_outlier)"
   ]
  },
  {
   "cell_type": "code",
   "execution_count": null,
   "id": "d928fb6e-24c4-4e9c-96e2-6b938d49bdf9",
   "metadata": {},
   "outputs": [],
   "source": []
  }
 ],
 "metadata": {
  "kernelspec": {
   "display_name": "Python 3 (ipykernel)",
   "language": "python",
   "name": "python3"
  },
  "language_info": {
   "codemirror_mode": {
    "name": "ipython",
    "version": 3
   },
   "file_extension": ".py",
   "mimetype": "text/x-python",
   "name": "python",
   "nbconvert_exporter": "python",
   "pygments_lexer": "ipython3",
   "version": "3.10.8"
  }
 },
 "nbformat": 4,
 "nbformat_minor": 5
}
